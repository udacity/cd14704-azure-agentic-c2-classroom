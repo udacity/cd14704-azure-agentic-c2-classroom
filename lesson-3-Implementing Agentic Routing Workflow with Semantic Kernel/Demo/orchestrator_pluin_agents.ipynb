{
 "cells": [
  {
   "cell_type": "markdown",
   "id": "01bccc19",
   "metadata": {},
   "source": [
    "# Multi-Agent Travel Planning Orchestrator System\n",
    " \n",
    "## Overview\n",
    "This notebook demonstrates the **orchestrator pattern** where a central agent delegates tasks to specialized worker agents. Unlike sequential chaining, the orchestrator intelligently routes each request to the appropriate specialist.\n",
    "\n",
    "<div align=\"center\">\n",
    "<img src=\"lesson_3.png\" alt=\"Alt text\" width=\"750\"/>\n",
    "</div>\n",
    " \n",
    "### Key Concepts Covered:\n",
    "1. **Orchestrator Pattern**: Central agent routes requests to specialists\n",
    "2. **Agent as Plugin**: Worker agents registered as plugins for the orchestrator\n",
    "3. **Intelligent Delegation**: Orchestrator decides which agent handles each request\n",
    "4. **ChatHistoryAgentThread**: Maintains conversation context across interactions\n",
    "5. **Separation of Concerns**: Each agent has a narrow, focused responsibility\n",
    "\n",
    "## 1. Setup and Configuration"
   ]
  },
  {
   "cell_type": "code",
   "execution_count": 11,
   "id": "dfc9bc45",
   "metadata": {},
   "outputs": [],
   "source": [
    "import os\n",
    "from dotenv import load_dotenv\n",
    "\n",
    "from semantic_kernel import Kernel\n",
    "from semantic_kernel.agents import ChatCompletionAgent\n",
    "from semantic_kernel.agents.runtime import InProcessRuntime\n",
    "from semantic_kernel.connectors.ai.open_ai import AzureChatCompletion\n",
    "\n",
    "# Load environment variables\n",
    "load_dotenv()\n",
    "\n",
    "api_key = os.getenv(\"AZURE_OPENAI_KEY\")\n",
    "url = os.getenv(\"URL\")\n",
    "api_version = \"2024-12-01-preview\""
   ]
  },
  {
   "cell_type": "markdown",
   "id": "e9d83ef4",
   "metadata": {},
   "source": [
    "## 2. Initialize Kernel\n",
    " \n",
    "The kernel manages services and coordinates agent operations."
   ]
  },
  {
   "cell_type": "code",
   "execution_count": 12,
   "id": "cc2177ad",
   "metadata": {},
   "outputs": [],
   "source": [
    "kernel = Kernel()"
   ]
  },
  {
   "cell_type": "markdown",
   "id": "97a3d273",
   "metadata": {},
   "source": [
    "## 3. Configure Azure OpenAI Service\n",
    " \n",
    "Create the chat completion service that will power all agents."
   ]
  },
  {
   "cell_type": "code",
   "execution_count": 13,
   "id": "19bb7f68",
   "metadata": {},
   "outputs": [],
   "source": [
    "chat_service = AzureChatCompletion(\n",
    "    deployment_name=\"none\",  # Deployment name managed by base_url\n",
    "    api_key=api_key,\n",
    "    base_url=url,\n",
    "    api_version=api_version  \n",
    ")\n",
    "\n",
    "# Register the service with the kernel\n",
    "kernel.add_service(chat_service)"
   ]
  },
  {
   "cell_type": "markdown",
   "id": "2191aa7e",
   "metadata": {},
   "source": [
    "## 4. Create Specialized Worker Agents\n",
    " \n",
    "These are **specialist agents** with narrow, focused expertise.\n",
    "They will be used as **plugins** by the orchestrator agent.\n",
    "\n",
    "### 4.1 Flight Booking Agent"
   ]
  },
  {
   "cell_type": "code",
   "execution_count": 14,
   "id": "80908da6",
   "metadata": {},
   "outputs": [],
   "source": [
    "flight_booking_agent = ChatCompletionAgent(\n",
    "    service=chat_service,\n",
    "    name=\"FlightBookingAgent\",\n",
    "    description=\"Handles flight bookings and airline-related queries.\",\n",
    "    instructions=\"\"\"\n",
    "    AI Agent Persona: Flight Booking Specialist\n",
    "    Role: A specialized assistant focused exclusively on flight bookings and airline information.\n",
    "    Behavior: Only handles flight-related queries. Does not answer questions outside this domain.\n",
    "    Response Style: Provides clear, actionable flight booking guidance.\n",
    "    \n",
    "    Agent Instructions:\n",
    "    - When asked about booking flights, provide step-by-step guidance on checking availability, \n",
    "      comparing prices, and booking tickets.\n",
    "    - Mention key considerations: dates, destinations, layovers, airline preferences, budget.\n",
    "    - Always suggest checking multiple booking platforms (Google Flights, Kayak, airline websites).\n",
    "    - Do NOT respond to questions about hotels, car rentals, attractions, or other travel topics.\n",
    "    - If the query is outside flight booking, respond: \"I only handle flight bookings. Please contact another specialist.\"\n",
    "    \"\"\"\n",
    ")"
   ]
  },
  {
   "cell_type": "markdown",
   "id": "e722e651",
   "metadata": {},
   "source": [
    "### 4.2 Hotel Accommodation Agent"
   ]
  },
  {
   "cell_type": "code",
   "execution_count": 15,
   "id": "f731a391",
   "metadata": {},
   "outputs": [],
   "source": [
    "hotel_accommodation_agent = ChatCompletionAgent(\n",
    "    service=chat_service,\n",
    "    name=\"HotelAccommodationAgent\",\n",
    "    description=\"Specialist for hotel and lodging recommendations.\",\n",
    "    instructions=\"\"\"\n",
    "    AI Agent Persona: Hotel Accommodation Specialist\n",
    "    Role: A specialized assistant focused exclusively on hotel bookings and lodging.\n",
    "    Behavior: Only handles accommodation-related queries. Does not answer questions outside this domain.\n",
    "    Response Style: Provides detailed hotel booking recommendations.\n",
    "    \n",
    "    Agent Instructions:\n",
    "    - When asked about hotels or accommodations, provide guidance on finding and booking hotels.\n",
    "    - Mention key factors: location, price range, amenities, reviews, cancellation policies.\n",
    "    - Suggest platforms like Booking.com, Hotels.com, Airbnb for different travel styles.\n",
    "    - Recommend checking reviews on TripAdvisor before booking.\n",
    "    - Do NOT respond to questions about flights, attractions, car rentals, or other travel topics.\n",
    "    - If the query is outside hotel booking, respond: \"I only handle hotel accommodations. Please contact another specialist.\"\n",
    "    \"\"\"\n",
    ")"
   ]
  },
  {
   "cell_type": "markdown",
   "id": "0d6c7725",
   "metadata": {},
   "source": [
    "### 4.3 Local Attractions Agent"
   ]
  },
  {
   "cell_type": "code",
   "execution_count": 16,
   "id": "b363a0ee",
   "metadata": {},
   "outputs": [],
   "source": [
    "local_attractions_agent = ChatCompletionAgent(\n",
    "    service=chat_service,\n",
    "    name=\"LocalAttractionsAgent\",\n",
    "    description=\"Recommends local attractions, activities, and sightseeing options.\",\n",
    "    instructions=\"\"\"\n",
    "    AI Agent Persona: Local Attractions & Activities Specialist\n",
    "    Role: A specialized assistant focused exclusively on tourist attractions and activities.\n",
    "    Behavior: Only handles queries about things to do, attractions, and local experiences. \n",
    "    Response Style: Provides engaging recommendations for sightseeing and activities.\n",
    "    \n",
    "    Agent Instructions:\n",
    "    - When asked about attractions or things to do, provide curated recommendations.\n",
    "    - Categorize suggestions: historical sites, museums, outdoor activities, food experiences, nightlife.\n",
    "    - Mention practical details: opening hours, ticket prices, best times to visit, booking requirements.\n",
    "    - Suggest researching on TripAdvisor, GetYourGuide, or local tourism websites.\n",
    "    - Do NOT respond to questions about flights, hotels, car rentals, or other travel logistics.\n",
    "    - If the query is outside attractions/activities, respond: \"I only handle local attractions and activities. Please contact another specialist.\"\n",
    "    \"\"\"\n",
    ")"
   ]
  },
  {
   "cell_type": "markdown",
   "id": "7a8deb1b",
   "metadata": {},
   "source": [
    "## 5. Create Orchestrator Agent\n",
    " \n",
    "The **orchestrator** is the key innovation here. It:\n",
    "- Does NOT answer questions directly\n",
    "- Analyzes each request to determine the appropriate specialist\n",
    "- Delegates to worker agents (registered as plugins)\n",
    "- Routes requests intelligently based on query content"
   ]
  },
  {
   "cell_type": "code",
   "execution_count": 17,
   "id": "54a9d862",
   "metadata": {},
   "outputs": [],
   "source": [
    "orchestrator_agent = ChatCompletionAgent(\n",
    "    service=chat_service,\n",
    "    name=\"TravelOrchestratorAgent\",\n",
    "    description=\"Routes travel-related queries to the appropriate specialist agent.\",\n",
    "    instructions=\"\"\"\n",
    "    AI Agent Persona: Travel Planning Coordinator\n",
    "    Role: A management assistant that intelligently routes travel requests to specialized agents.\n",
    "    Behavior: NEVER answers user questions directly. Always delegates to the appropriate specialist agent.\n",
    "    Response Style: Routes requests by invoking the correct plugin/agent.\n",
    "    \n",
    "    Agent Instructions:\n",
    "    DO NOT answer any questions directly yourself.\n",
    "    \n",
    "    Delegation Rules:\n",
    "    If the request is about FLIGHTS, AIRLINES, or FLIGHT BOOKING → invoke FlightBookingAgent\n",
    "    If the request is about HOTELS, ACCOMMODATIONS, or LODGING → invoke HotelAccommodationAgent\n",
    "    If the request is about ATTRACTIONS, ACTIVITIES, or THINGS TO DO → invoke LocalAttractionsAgent\n",
    "    \n",
    "    If the request is about topics NONE of your specialists handle (e.g., travel insurance, car rentals, \n",
    "       visa requirements), respond: \"I apologize, but I don't have a specialist for that type of request. \n",
    "       My team covers flights, hotels, and local attractions only.\"\n",
    "    \n",
    "    CRITICAL: You are a router, not an answerer. Always delegate to plugins.\n",
    "    \"\"\"\n",
    ")\n",
    "\n",
    "# Manual orchestration logic\n",
    "async def route_query(prompt: str, runtime: InProcessRuntime):\n",
    "    # Step 1: Ask orchestrator to decide\n",
    "    orchestrator_response = \"\"\n",
    "    print(\"Invoking Orchestrator Agent...\")\n",
    "    async for message in orchestrator_agent.invoke(prompt, runtime=runtime):\n",
    "        orchestrator_response += str(message)\n",
    "    print(f\"Orchestrator Response: {orchestrator_response}\")\n",
    "\n",
    "    # Step 2: Decide which agent to call based on orchestrator's response\n",
    "    if \"flight booking\" in orchestrator_response.lower() or \"FlightBookingAgent\" in orchestrator_response:\n",
    "        print(\"Routing to FlightBookingAgent\")\n",
    "        agent = flight_booking_agent\n",
    "    elif \"hotel accommodation\" in orchestrator_response.lower() or \"HotelAccommodationAgent\" in orchestrator_response:\n",
    "        print(\"Routing to HotelAccommodationAgent\")\n",
    "        agent = hotel_accommodation_agent\n",
    "    elif \"local attractions\" in orchestrator_response.lower() or \"LocalAttractionsAgent\" in orchestrator_response:\n",
    "        print(\"Routing to LocalAttractionsAgent\")\n",
    "        agent = local_attractions_agent\n",
    "    else:\n",
    "        return orchestrator_response  # Out-of-scope fallback\n",
    "\n",
    "    # Step 3: Invoke the selected agent\n",
    "    final_response = \"\"\n",
    "    async for message in agent.invoke(prompt, runtime=runtime):\n",
    "        final_response += \"Agent Responding: \" + agent.name + \"\\n\" + str(message)\n",
    "\n",
    "    return final_response"
   ]
  },
  {
   "cell_type": "markdown",
   "id": "21993c08",
   "metadata": {},
   "source": [
    "## 6. Test the Orchestrator with Different Queries\n",
    " \n",
    "We'll test various travel-related queries to see how the orchestrator routes them."
   ]
  },
  {
   "cell_type": "code",
   "execution_count": 18,
   "id": "7eb6cc00",
   "metadata": {},
   "outputs": [],
   "source": [
    "async def main():\n",
    "    runtime = InProcessRuntime()\n",
    "    runtime.start()\n",
    "\n",
    "    prompts = [\n",
    "        \"How do I book a flight to Paris?\",\n",
    "        \"What are the best hotels in Tokyo?\",\n",
    "        \"What attractions should I visit in Rome?\",\n",
    "        \"How do I rent a car for my trip?\",\n",
    "        \"I need travel insurance recommendations\"\n",
    "    ]\n",
    "\n",
    "    for i, prompt in enumerate(prompts, start=1):\n",
    "        print(f\"\\n{'='*60}\\nQuery #{i}: {prompt}\\n{'='*60}\")\n",
    "        response = await route_query(prompt, runtime)\n",
    "        print(f\"\\nFinal Response:\\n{response}\")\n",
    "\n",
    "    await runtime.stop_when_idle()"
   ]
  },
  {
   "cell_type": "markdown",
   "id": "8e7adf51",
   "metadata": {},
   "source": [
    "## 7. Run the Demo"
   ]
  },
  {
   "cell_type": "code",
   "execution_count": 19,
   "id": "31cb6034",
   "metadata": {},
   "outputs": [
    {
     "name": "stdout",
     "output_type": "stream",
     "text": [
      "\n",
      "============================================================\n",
      "Query #1: How do I book a flight to Paris?\n",
      "============================================================\n",
      "Invoking Orchestrator Agent...\n",
      "Orchestrator Response: Routing your request to the FlightBookingAgent.\n",
      "Routing to FlightBookingAgent\n",
      "\n",
      "Final Response:\n",
      "Agent Responding: FlightBookingAgent\n",
      "To book a flight to Paris, follow these steps:\n",
      "\n",
      "1. **Decide on Your Dates:** Choose your preferred departure and return dates. Flexibility can help you find better deals.\n",
      "2. **Select Departure City/Airport:** Determine the airport you'll be flying out of.\n",
      "3. **Compare Prices:** Use booking platforms like Google Flights, Kayak, Skyscanner, or visit airline websites directly. Enter your departure city, Paris (CDG or ORY airports), and travel dates.\n",
      "4. **Check Layovers:** Review if you prefer nonstop flights or are okay with layovers, which may affect price and duration.\n",
      "5. **Choose Airlines:** Decide if you have any airline preferences or loyalty programs you want to use.\n",
      "6. **Review Baggage and Seat Options:** Check baggage policies, seat selection options, and any additional fees.\n",
      "7. **Book Your Flight:** Once you've found the best option for your needs and budget, proceed with booking on the chosen platform or the airline’s official website.\n",
      "8. **Confirm Details:** Double-check your travel dates, passenger information, and flight itinerary before payment.\n",
      "9. **Receive Booking Confirmation:** After payment, you'll receive an email confirmation and your ticket.\n",
      "\n",
      "Tip: Compare at least 2-3 platforms for the best prices and options before finalizing your booking. \n",
      "\n",
      "Let me know if you need guidance on searching specific dates or airlines!\n",
      "\n",
      "============================================================\n",
      "Query #2: What are the best hotels in Tokyo?\n",
      "============================================================\n",
      "Invoking Orchestrator Agent...\n",
      "Orchestrator Response: Invoking HotelAccommodationAgent for information on the best hotels in Tokyo.\n",
      "Routing to HotelAccommodationAgent\n",
      "\n",
      "Final Response:\n",
      "Agent Responding: HotelAccommodationAgent\n",
      "Tokyo offers a wide range of hotel options to suit different budgets and preferences. Here are some of the best and most popular hotels in Tokyo, categorized by style and price range:\n",
      "\n",
      "**Luxury Hotels:**\n",
      "1. **The Peninsula Tokyo**  \n",
      "   - Location: Marunouchi, near Ginza  \n",
      "   - Amenities: Spa, indoor pool, Michelin-starred restaurant  \n",
      "   - Known for: Exceptional service and views\n",
      "\n",
      "2. **Park Hyatt Tokyo**  \n",
      "   - Location: Shinjuku  \n",
      "   - Amenities: Rooftop pool, fitness center, famous New York Bar  \n",
      "   - Known for: Panoramic city views (featured in \"Lost in Translation\")\n",
      "\n",
      "3. **Mandarin Oriental Tokyo**  \n",
      "   - Location: Nihonbashi  \n",
      "   - Amenities: Great dining, spa, luxurious rooms  \n",
      "   - Known for: Stunning skyline views\n",
      "\n",
      "**Mid-Range Hotels:**\n",
      "4. **Hotel Ryumeikan Tokyo**  \n",
      "   - Location: Near Tokyo Station  \n",
      "   - Amenities: Modern rooms, excellent access, restaurant  \n",
      "   - Known for: Comfort and convenience for travelers\n",
      "\n",
      "5. **Shinjuku Granbell Hotel**  \n",
      "   - Location: Shinjuku  \n",
      "   - Amenities: Rooftop bar, modern design, good value  \n",
      "   - Known for: Stylish atmosphere\n",
      "\n",
      "**Budget & Boutique:**\n",
      "6. **Tokyu Stay Shinjuku**  \n",
      "   - Location: Shinjuku  \n",
      "   - Amenities: Washing machine in rooms, central location  \n",
      "   - Known for: Practical options for longer stays\n",
      "\n",
      "7. **APA Hotel Asakusa Tawaramachi Ekimae**  \n",
      "   - Location: Asakusa  \n",
      "   - Amenities: Compact rooms, public bath  \n",
      "   - Known for: Value and easy access to tourist spots\n",
      "\n",
      "**Unique/Luxury Ryokan (Japanese Inn):**\n",
      "8. **Hoshinoya Tokyo**  \n",
      "   - Location: Otemachi  \n",
      "   - Amenities: Traditional baths, tatami rooms, refined service  \n",
      "   - Known for: Modern take on the ryokan experience\n",
      "\n",
      "**Tips for Booking:**\n",
      "- Compare prices and options on Booking.com, Hotels.com, and Agoda.\n",
      "- For authentic experiences, consider Airbnb apartments or local guesthouses.\n",
      "- Always check recent reviews on TripAdvisor for up-to-date information on cleanliness and service.\n",
      "- Review cancellation policies before booking, especially if your plans may change.\n",
      "\n",
      "Let me know your preferred location, budget, or amenities, and I can provide more tailored hotel recommendations!\n",
      "\n",
      "============================================================\n",
      "Query #3: What attractions should I visit in Rome?\n",
      "============================================================\n",
      "Invoking Orchestrator Agent...\n",
      "Orchestrator Response: Invoking LocalAttractionsAgent for recommendations on attractions to visit in Rome.\n",
      "Routing to LocalAttractionsAgent\n",
      "\n",
      "Final Response:\n",
      "Agent Responding: LocalAttractionsAgent\n",
      "Rome offers a treasure trove of attractions and unforgettable experiences! Here are some top recommendations, categorized for easy planning:\n",
      "\n",
      "**Historical Sites**  \n",
      "- **Colosseum**  \n",
      "  *Details:* Open daily, 9:00am–7:15pm. Tickets start at €16. Advance booking recommended, especially in summer.  \n",
      "  *Tip:* Arrive early to avoid crowds and enjoy guided tours for a deeper experience.\n",
      "\n",
      "- **Roman Forum & Palatine Hill**  \n",
      "  *Details:* Accessible with Colosseum ticket. Explore ancient ruins; best visited in late afternoon for stunning light.\n",
      "\n",
      "- **Pantheon**  \n",
      "  *Details:* Open daily, 9:00am–7:00pm. Entrance fee €5. Early morning visits are quieter.\n",
      "\n",
      "**Museums & Art**  \n",
      "- **Vatican Museums & Sistine Chapel**  \n",
      "  *Details:* Closed Sundays except last Sunday of the month. Open 8:30am–6:30pm. Tickets from €20. Online booking strongly advised due to high demand.  \n",
      "  *Tip:* Combine with a visit to St. Peter’s Basilica (free, but dome access costs extra).\n",
      "\n",
      "- **Galleria Borghese**  \n",
      "  *Details:* Open Tuesday–Sunday, 9:00am–7:00pm. Entry €15–€20. Advance reservations required.\n",
      "\n",
      "**Outdoor Experiences**  \n",
      "- **Villa Borghese Gardens**  \n",
      "  *Details:* Free entry. Great for picnics, biking, and rowing on the lake. Best enjoyed on sunny afternoons.\n",
      "\n",
      "- **Trastevere District**  \n",
      "  *Details:* Wander cobblestone streets, discover vibrant squares, and soak up the local atmosphere.\n",
      "\n",
      "**Food Experiences**  \n",
      "- **Campo de’ Fiori Market**  \n",
      "  *Details:* Open Monday–Saturday, mornings until 2:00pm. Sample cheeses, bread, and Italian produce.\n",
      "\n",
      "- **Traditional Roman Pasta Tour**  \n",
      "  *Details:* Book food tours to try classics like carbonara and amatriciana, often available through GetYourGuide or local providers.\n",
      "\n",
      "**Nightlife**  \n",
      "- **Piazza Navona & Surroundings**  \n",
      "  *Details:* Lively in the evenings, plenty of cafés and gelato spots.\n",
      "\n",
      "- **Testaccio District**  \n",
      "  *Details:* Known for authentic Roman nightlife, with clubs and bars open late.\n",
      "\n",
      "**Practical Tips:**  \n",
      "- Buy attraction tickets online in advance for best prices and availability.  \n",
      "- For up-to-date hours and booking, check official websites or TripAdvisor.  \n",
      "- Consider guided tours for rich historical insights!\n",
      "\n",
      "Would you like suggestions tailored to a specific interest—like art, family activities, or food tours?\n",
      "\n",
      "============================================================\n",
      "Query #4: How do I rent a car for my trip?\n",
      "============================================================\n",
      "Invoking Orchestrator Agent...\n",
      "Orchestrator Response: I apologize, but I don't have a specialist for that type of request. My team covers flights, hotels, and local attractions only.\n",
      "Routing to LocalAttractionsAgent\n",
      "\n",
      "Final Response:\n",
      "Agent Responding: LocalAttractionsAgent\n",
      "I only handle local attractions and activities. Please contact another specialist.\n",
      "\n",
      "============================================================\n",
      "Query #5: I need travel insurance recommendations\n",
      "============================================================\n",
      "Invoking Orchestrator Agent...\n",
      "Orchestrator Response: I apologize, but I don't have a specialist for that type of request. My team covers flights, hotels, and local attractions only.\n",
      "Routing to LocalAttractionsAgent\n",
      "\n",
      "Final Response:\n",
      "Agent Responding: LocalAttractionsAgent\n",
      "I only handle local attractions and activities. Please contact another specialist.\n"
     ]
    }
   ],
   "source": [
    "await main()"
   ]
  },
  {
   "cell_type": "markdown",
   "id": "3561087f",
   "metadata": {},
   "source": [
    "# Using Semantic Kernel Orchestration\n",
    "\n",
    "## 1. Setup and Configuration"
   ]
  },
  {
   "cell_type": "code",
   "execution_count": 20,
   "id": "c9e76625",
   "metadata": {},
   "outputs": [],
   "source": [
    "import os\n",
    "from dotenv import load_dotenv\n",
    "\n",
    "from semantic_kernel import Kernel\n",
    "from semantic_kernel.connectors.ai.open_ai import AzureChatCompletion\n",
    "from semantic_kernel.agents import ChatCompletionAgent\n",
    "\n",
    "# Load environment variables\n",
    "load_dotenv()\n",
    "\n",
    "api_key = os.getenv(\"AZURE_OPENAI_KEY\")\n",
    "url = os.getenv(\"URL\")\n",
    "api_version = \"2024-12-01-preview\""
   ]
  },
  {
   "cell_type": "markdown",
   "id": "fc68ae77",
   "metadata": {},
   "source": [
    "## 2. Instantiate Kernel"
   ]
  },
  {
   "cell_type": "code",
   "execution_count": 21,
   "id": "99f73bae",
   "metadata": {},
   "outputs": [],
   "source": [
    "kernel = Kernel()"
   ]
  },
  {
   "cell_type": "markdown",
   "id": "b305c780",
   "metadata": {},
   "source": [
    "## 3. Instantiate a Chat Service and add to Kernel"
   ]
  },
  {
   "cell_type": "code",
   "execution_count": 22,
   "id": "0b811bce",
   "metadata": {},
   "outputs": [],
   "source": [
    "chat_service = AzureChatCompletion(\n",
    "    deployment_name=\"none\",  # Deployment name managed by base_url\n",
    "    api_key=api_key,\n",
    "    base_url=url,\n",
    "    api_version=api_version  \n",
    ")\n",
    "\n",
    "# Register the service with the kernel\n",
    "kernel.add_service(chat_service)"
   ]
  },
  {
   "cell_type": "markdown",
   "id": "739e0335",
   "metadata": {},
   "source": [
    "## 4. Define Agents"
   ]
  },
  {
   "cell_type": "code",
   "execution_count": 23,
   "id": "17e10c5e",
   "metadata": {},
   "outputs": [],
   "source": [
    "hotel_agent = ChatCompletionAgent(\n",
    "    service=chat_service,\n",
    "    name=\"HotelAccommodationAgent\",\n",
    "    description=\"Handles hotel-related inquiries and bookings.\",\n",
    "    instructions=\"\"\"\n",
    "    AI Agent Persona: Hotel Booking Specialist\n",
    "    Role: A dedicated agent for handling hotel inquiries and reservations.\n",
    "    Behavior: Always responds with hotels recommendations for cheap motels. Never say no hotels available.\n",
    "    Response Style: Friendly, informative, and focused on lodging details. Always include: Brought to you by HotelAccommodationAgent.\n",
    "    \"\"\"\n",
    ")\n",
    "\n",
    "flight_agent = ChatCompletionAgent(\n",
    "    service=chat_service,\n",
    "    name=\"FlightBookingAgent\",\n",
    "    description=\"Handles flight search, booking, and airline-related questions.\",\n",
    "    instructions=\"\"\"\n",
    "    AI Agent Persona: Flight Booking Assistant\n",
    "    Role: A specialist in airline travel, flight schedules, and ticket reservations.\n",
    "    Behavior: Always responds with flight recommendations on budget airlines. If flight details are missing, make your best guess based on user preferences.\n",
    "    Response Format: \n",
    "    Input: User's flight inquiry.\n",
    "    Output: Clear, concise flight booking guidance. \n",
    "    Always include the phrase: Brought to you by FlightBookingAgent.\n",
    "    \"\"\"\n",
    ")\n",
    "\n",
    "attractions_agent = ChatCompletionAgent(\n",
    "    service=chat_service,\n",
    "    name=\"LocalAttractionsAgent\",\n",
    "    description=\"Recommends local attractions and activities.\",\n",
    "    instructions=\"\"\"\n",
    "    AI Agent Persona: Local Experience Curator\n",
    "    Role: A guide for discovering attractions, tours, and activities in a given destination.\n",
    "    Behavior: Always responds with suggestions for historical sites and museums.\n",
    "    Response Style: Enthusiastic, engaging, and tailored to traveler interests. Always include: brought to you by LocalAttractionsAgent.\n",
    "    \"\"\"\n",
    ")"
   ]
  },
  {
   "cell_type": "markdown",
   "id": "5d7ef14b",
   "metadata": {},
   "source": [
    "## 5. Define the Orchestrator Agent"
   ]
  },
  {
   "cell_type": "code",
   "execution_count": 24,
   "id": "1bddc221",
   "metadata": {},
   "outputs": [],
   "source": [
    "orchestrator_agent = ChatCompletionAgent(\n",
    "    service=chat_service,\n",
    "    name=\"Orchestrator\",\n",
    "    instructions=\"\"\"You are the routing orchestrator for a travel assistant system.\n",
    "\n",
    "Your job is to decide which specialized agent should handle the user's request.\n",
    "\n",
    "Available agents:\n",
    "- HotelAccommodationAgent: Handles hotel-related inquiries and bookings.\n",
    "- FlightBookingAgent: Handles flight search, booking, and airline-related questions.\n",
    "- LocalAttractionsAgent: Recommends local attractions and activities.\n",
    "\n",
    "If none of the agents can handle the request, respond with: \"I apologize, but I don't have a specialist for that type of request.\"\n",
    "\"\"\"\n",
    ")"
   ]
  },
  {
   "cell_type": "markdown",
   "id": "ca34ace8",
   "metadata": {},
   "source": [
    "## 6. Define Orchestration Agents"
   ]
  },
  {
   "cell_type": "code",
   "execution_count": 25,
   "id": "55c0c494",
   "metadata": {},
   "outputs": [],
   "source": [
    "from semantic_kernel.agents import OrchestrationHandoffs\n",
    "\n",
    "handoffs = (\n",
    "    OrchestrationHandoffs()\n",
    "    .add_many(    # Use add_many to add multiple handoffs to the same source agent at once\n",
    "        source_agent=orchestrator_agent.name,\n",
    "        target_agents={\n",
    "            hotel_agent.name: \"Transfer to this agent if the issue is hotel related\",\n",
    "            flight_agent.name: \"Transfer to this agent if the issue is flight related\",\n",
    "            attractions_agent.name: \"Transfer to this agent if the issue is attractions related\",\n",
    "        },\n",
    "    )\n",
    ")"
   ]
  },
  {
   "cell_type": "markdown",
   "id": "f8cb45ba",
   "metadata": {},
   "source": [
    "## 7. Define a Callback Function to see Agent messages"
   ]
  },
  {
   "cell_type": "code",
   "execution_count": 26,
   "id": "5e6d2d2b",
   "metadata": {},
   "outputs": [],
   "source": [
    "from semantic_kernel.contents import ChatMessageContent\n",
    "\n",
    "def agent_response_callback(message: ChatMessageContent) -> None:\n",
    "    if message.content.strip():\n",
    "        print(f\"{message.name}: {message.content}\")\n",
    "    else:\n",
    "        print(f\"{message.name}: [no content]\")"
   ]
  },
  {
   "cell_type": "markdown",
   "id": "cfe20dbc",
   "metadata": {},
   "source": [
    "## 8. Define the Orchestration"
   ]
  },
  {
   "cell_type": "code",
   "execution_count": 27,
   "id": "31523d6b",
   "metadata": {},
   "outputs": [],
   "source": [
    "from semantic_kernel.agents import HandoffOrchestration\n",
    "\n",
    "handoff_orchestration = HandoffOrchestration(\n",
    "    members=[\n",
    "        orchestrator_agent,\n",
    "        hotel_agent,\n",
    "        flight_agent,\n",
    "        attractions_agent,\n",
    "    ],\n",
    "    handoffs=handoffs,\n",
    "    agent_response_callback=agent_response_callback\n",
    ")"
   ]
  },
  {
   "cell_type": "markdown",
   "id": "cf8ba9c9",
   "metadata": {},
   "source": [
    "## 7. Instatiate and start the Runtime"
   ]
  },
  {
   "cell_type": "code",
   "execution_count": 28,
   "id": "028c1474",
   "metadata": {},
   "outputs": [
    {
     "name": "stdout",
     "output_type": "stream",
     "text": [
      "Orchestrator: [no content]\n",
      "Orchestrator: [no content]\n",
      "Orchestrator: [no content]\n",
      "HotelAccommodationAgent: Great choice! Here are a few budget-friendly motel options in Houston for Friday evening:\n",
      "\n",
      "1. Motel 6 Houston Downtown – Affordable rates, clean rooms, and close to major attractions.\n",
      "2. Super 8 by Wyndham Houston – Comfortable accommodation, free breakfast, and convenient location.\n",
      "3. Red Roof Inn Houston East – Offers free Wi-Fi, parking, and easy access to highways.\n",
      "\n",
      "Would you like more details or assistance booking any of these motels?\n",
      "\n",
      "Brought to you by HotelAccommodationAgent.\n",
      "Orchestrator: [no content]\n",
      "Orchestrator: [no content]\n",
      "Orchestrator: [no content]\n",
      "FlightBookingAgent: For budget-friendly options from Dallas to Houston on a Friday evening, consider these popular budget airlines:\n",
      "\n",
      "- Southwest Airlines: Multiple evening departures, known for low fares and two free checked bags.\n",
      "- Spirit Airlines: Often provides the lowest base fares, but be mindful of extra fees for baggage and seat selection.\n",
      "- Frontier Airlines: Also offers competitive prices and may have a late evening flight.\n",
      "\n",
      "Prices and times can vary, but typical evening flights usually depart between 5:00 PM and 9:00 PM. Booking a few weeks in advance often secures the best deal.\n",
      "\n",
      "Would you like help booking a specific time, or do you have a preferred airline or budget?\n",
      "\n",
      "Brought to you by FlightBookingAgent.\n",
      "Orchestrator: [no content]\n",
      "Orchestrator: [no content]\n",
      "Orchestrator: [no content]\n",
      "LocalAttractionsAgent: Absolutely! Houston is filled with fantastic attractions, especially for a Friday evening outing. Here are some top suggestions that blend history, culture, and community flair:\n",
      "\n",
      "1. Museum of Fine Arts, Houston – Explore late-night gallery hours on Fridays with incredible exhibits spanning centuries and cultures.\n",
      "2. Houston Museum of Natural Science – Discover dazzling gems, ancient fossils, and planetarium shows open into the evening.\n",
      "3. Buffalo Bayou Park Cistern – Tour a historic underground reservoir with artistic light installations.\n",
      "4. The Heritage Society at Sam Houston Park – Take a twilight stroll among historic homes and buildings that tell the story of Houston’s roots.\n",
      "5. Holocaust Museum Houston – Delve into powerful, thought-provoking exhibits, often open later on Fridays.\n",
      "\n",
      "If the customer is interested in a particular type of attraction or neighborhood, I can tailor these recommendations further!\n",
      "\n",
      "Brought to you by LocalAttractionsAgent.\n",
      "Orchestrator: I apologize, but I don't have a specialist for that type of request.\n"
     ]
    }
   ],
   "source": [
    "from semantic_kernel.agents.runtime import InProcessRuntime\n",
    "\n",
    "runtime = InProcessRuntime()\n",
    "runtime.start()"
   ]
  },
  {
   "cell_type": "markdown",
   "id": "b6694c17",
   "metadata": {},
   "source": [
    "## 8. Run the Demo"
   ]
  },
  {
   "cell_type": "code",
   "execution_count": 29,
   "id": "42d94aec",
   "metadata": {},
   "outputs": [
    {
     "name": "stdout",
     "output_type": "stream",
     "text": [
      "Task is completed with summary: No handoff agent name provided and no human response function set. Ending task.\n",
      "Task is completed with summary: No handoff agent name provided and no human response function set. Ending task.\n",
      "Task is completed with summary: No handoff agent name provided and no human response function set. Ending task.\n",
      "Task is completed with summary: No handoff agent name provided and no human response function set. Ending task.\n"
     ]
    }
   ],
   "source": [
    "orchestration_result = await handoff_orchestration.invoke(\n",
    "    task=\"A customer is on the line asking for a hotel in Houston on Friday evening.\",\n",
    "    runtime=runtime,\n",
    ")\n",
    "\n",
    "value = await orchestration_result.get()\n",
    "print(value)\n",
    "\n",
    "orchestration_result = await handoff_orchestration.invoke(\n",
    "    task=\"A customer is on the line asking for flights from Dallas to Houston on Friday evening.\",\n",
    "    runtime=runtime,\n",
    ")\n",
    "\n",
    "value = await orchestration_result.get()\n",
    "print(value)\n",
    "\n",
    "orchestration_result = await handoff_orchestration.invoke(\n",
    "    task=\"A customer is on the line asking for attractions in Houston on Friday evening.\",\n",
    "    runtime=runtime,\n",
    ")\n",
    "\n",
    "value = await orchestration_result.get()\n",
    "print(value)\n",
    "\n",
    "orchestration_result = await handoff_orchestration.invoke(\n",
    "    task=\"A customer is on the line asking for car rentals in Houston on Friday evening.\",\n",
    "    runtime=runtime,\n",
    ")\n",
    "\n",
    "value = await orchestration_result.get()\n",
    "print(value)"
   ]
  }
 ],
 "metadata": {
  "kernelspec": {
   "display_name": "finalproject",
   "language": "python",
   "name": "python3"
  },
  "language_info": {
   "codemirror_mode": {
    "name": "ipython",
    "version": 3
   },
   "file_extension": ".py",
   "mimetype": "text/x-python",
   "name": "python",
   "nbconvert_exporter": "python",
   "pygments_lexer": "ipython3",
   "version": "3.13.2"
  }
 },
 "nbformat": 4,
 "nbformat_minor": 5
}
